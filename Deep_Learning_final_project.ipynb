{
  "nbformat": 4,
  "nbformat_minor": 0,
  "metadata": {
    "colab": {
      "name": "Deep Learning final project ",
      "provenance": [],
      "toc_visible": true,
      "machine_shape": "hm",
      "mount_file_id": "14igTo_bM9X9sm_yp0guvyaqOcMKNEemu",
      "authorship_tag": "ABX9TyMEboPcRv1/suoUmQQFSZdK",
      "include_colab_link": true
    },
    "kernelspec": {
      "name": "python3",
      "display_name": "Python 3"
    },
    "accelerator": "GPU",
    "widgets": {
      "application/vnd.jupyter.widget-state+json": {
        "41d11e1f60434b568c5272e383d3799e": {
          "model_module": "@jupyter-widgets/controls",
          "model_name": "HBoxModel",
          "state": {
            "_view_name": "HBoxView",
            "_dom_classes": [],
            "_model_name": "HBoxModel",
            "_view_module": "@jupyter-widgets/controls",
            "_model_module_version": "1.5.0",
            "_view_count": null,
            "_view_module_version": "1.5.0",
            "box_style": "",
            "layout": "IPY_MODEL_b99c0c41a27046aaab5c72527115d1b5",
            "_model_module": "@jupyter-widgets/controls",
            "children": [
              "IPY_MODEL_8fc5f4ba5c8a46d6a33bbecdbb16f3c6",
              "IPY_MODEL_f3f92eac37034f5b9e7f1d58b8f0a236"
            ]
          }
        },
        "b99c0c41a27046aaab5c72527115d1b5": {
          "model_module": "@jupyter-widgets/base",
          "model_name": "LayoutModel",
          "state": {
            "_view_name": "LayoutView",
            "grid_template_rows": null,
            "right": null,
            "justify_content": null,
            "_view_module": "@jupyter-widgets/base",
            "overflow": null,
            "_model_module_version": "1.2.0",
            "_view_count": null,
            "flex_flow": null,
            "width": null,
            "min_width": null,
            "border": null,
            "align_items": null,
            "bottom": null,
            "_model_module": "@jupyter-widgets/base",
            "top": null,
            "grid_column": null,
            "overflow_y": null,
            "overflow_x": null,
            "grid_auto_flow": null,
            "grid_area": null,
            "grid_template_columns": null,
            "flex": null,
            "_model_name": "LayoutModel",
            "justify_items": null,
            "grid_row": null,
            "max_height": null,
            "align_content": null,
            "visibility": null,
            "align_self": null,
            "height": null,
            "min_height": null,
            "padding": null,
            "grid_auto_rows": null,
            "grid_gap": null,
            "max_width": null,
            "order": null,
            "_view_module_version": "1.2.0",
            "grid_template_areas": null,
            "object_position": null,
            "object_fit": null,
            "grid_auto_columns": null,
            "margin": null,
            "display": null,
            "left": null
          }
        },
        "8fc5f4ba5c8a46d6a33bbecdbb16f3c6": {
          "model_module": "@jupyter-widgets/controls",
          "model_name": "IntProgressModel",
          "state": {
            "_view_name": "ProgressView",
            "style": "IPY_MODEL_7dc618c1f2724e4eb6667b07e7b055ad",
            "_dom_classes": [],
            "description": "",
            "_model_name": "IntProgressModel",
            "bar_style": "success",
            "max": 46827520,
            "_view_module": "@jupyter-widgets/controls",
            "_model_module_version": "1.5.0",
            "value": 46827520,
            "_view_count": null,
            "_view_module_version": "1.5.0",
            "orientation": "horizontal",
            "min": 0,
            "description_tooltip": null,
            "_model_module": "@jupyter-widgets/controls",
            "layout": "IPY_MODEL_2854711c4efd40f5b7a57eb0a8314e6f"
          }
        },
        "f3f92eac37034f5b9e7f1d58b8f0a236": {
          "model_module": "@jupyter-widgets/controls",
          "model_name": "HTMLModel",
          "state": {
            "_view_name": "HTMLView",
            "style": "IPY_MODEL_936e41cb1d6c4deaa39005c040199c56",
            "_dom_classes": [],
            "description": "",
            "_model_name": "HTMLModel",
            "placeholder": "​",
            "_view_module": "@jupyter-widgets/controls",
            "_model_module_version": "1.5.0",
            "value": "100% 44.7M/44.7M [00:01&lt;00:00, 44.6MB/s]",
            "_view_count": null,
            "_view_module_version": "1.5.0",
            "description_tooltip": null,
            "_model_module": "@jupyter-widgets/controls",
            "layout": "IPY_MODEL_7373505d71ce4a629cff0b4b1eecf45c"
          }
        },
        "7dc618c1f2724e4eb6667b07e7b055ad": {
          "model_module": "@jupyter-widgets/controls",
          "model_name": "ProgressStyleModel",
          "state": {
            "_view_name": "StyleView",
            "_model_name": "ProgressStyleModel",
            "description_width": "",
            "_view_module": "@jupyter-widgets/base",
            "_model_module_version": "1.5.0",
            "_view_count": null,
            "_view_module_version": "1.2.0",
            "bar_color": null,
            "_model_module": "@jupyter-widgets/controls"
          }
        },
        "2854711c4efd40f5b7a57eb0a8314e6f": {
          "model_module": "@jupyter-widgets/base",
          "model_name": "LayoutModel",
          "state": {
            "_view_name": "LayoutView",
            "grid_template_rows": null,
            "right": null,
            "justify_content": null,
            "_view_module": "@jupyter-widgets/base",
            "overflow": null,
            "_model_module_version": "1.2.0",
            "_view_count": null,
            "flex_flow": null,
            "width": null,
            "min_width": null,
            "border": null,
            "align_items": null,
            "bottom": null,
            "_model_module": "@jupyter-widgets/base",
            "top": null,
            "grid_column": null,
            "overflow_y": null,
            "overflow_x": null,
            "grid_auto_flow": null,
            "grid_area": null,
            "grid_template_columns": null,
            "flex": null,
            "_model_name": "LayoutModel",
            "justify_items": null,
            "grid_row": null,
            "max_height": null,
            "align_content": null,
            "visibility": null,
            "align_self": null,
            "height": null,
            "min_height": null,
            "padding": null,
            "grid_auto_rows": null,
            "grid_gap": null,
            "max_width": null,
            "order": null,
            "_view_module_version": "1.2.0",
            "grid_template_areas": null,
            "object_position": null,
            "object_fit": null,
            "grid_auto_columns": null,
            "margin": null,
            "display": null,
            "left": null
          }
        },
        "936e41cb1d6c4deaa39005c040199c56": {
          "model_module": "@jupyter-widgets/controls",
          "model_name": "DescriptionStyleModel",
          "state": {
            "_view_name": "StyleView",
            "_model_name": "DescriptionStyleModel",
            "description_width": "",
            "_view_module": "@jupyter-widgets/base",
            "_model_module_version": "1.5.0",
            "_view_count": null,
            "_view_module_version": "1.2.0",
            "_model_module": "@jupyter-widgets/controls"
          }
        },
        "7373505d71ce4a629cff0b4b1eecf45c": {
          "model_module": "@jupyter-widgets/base",
          "model_name": "LayoutModel",
          "state": {
            "_view_name": "LayoutView",
            "grid_template_rows": null,
            "right": null,
            "justify_content": null,
            "_view_module": "@jupyter-widgets/base",
            "overflow": null,
            "_model_module_version": "1.2.0",
            "_view_count": null,
            "flex_flow": null,
            "width": null,
            "min_width": null,
            "border": null,
            "align_items": null,
            "bottom": null,
            "_model_module": "@jupyter-widgets/base",
            "top": null,
            "grid_column": null,
            "overflow_y": null,
            "overflow_x": null,
            "grid_auto_flow": null,
            "grid_area": null,
            "grid_template_columns": null,
            "flex": null,
            "_model_name": "LayoutModel",
            "justify_items": null,
            "grid_row": null,
            "max_height": null,
            "align_content": null,
            "visibility": null,
            "align_self": null,
            "height": null,
            "min_height": null,
            "padding": null,
            "grid_auto_rows": null,
            "grid_gap": null,
            "max_width": null,
            "order": null,
            "_view_module_version": "1.2.0",
            "grid_template_areas": null,
            "object_position": null,
            "object_fit": null,
            "grid_auto_columns": null,
            "margin": null,
            "display": null,
            "left": null
          }
        }
      }
    }
  },
  "cells": [
    {
      "cell_type": "markdown",
      "metadata": {
        "id": "view-in-github",
        "colab_type": "text"
      },
      "source": [
        "<a href=\"https://colab.research.google.com/github/Randyliao/Data_science_practice/blob/master/Deep_Learning_final_project.ipynb\" target=\"_parent\"><img src=\"https://colab.research.google.com/assets/colab-badge.svg\" alt=\"Open In Colab\"/></a>"
      ]
    },
    {
      "cell_type": "markdown",
      "metadata": {
        "id": "ZrnxaC340tt_",
        "colab_type": "text"
      },
      "source": [
        ""
      ]
    },
    {
      "cell_type": "code",
      "metadata": {
        "id": "x6A7hGFzaLEm",
        "colab_type": "code",
        "outputId": "fc915d6d-f609-4994-9521-b1b172bc89aa",
        "colab": {
          "base_uri": "https://localhost:8080/",
          "height": 173
        }
      },
      "source": [
        "!pip install torch\n",
        "\n",
        "!apt-get install graphviz -y"
      ],
      "execution_count": 1,
      "outputs": [
        {
          "output_type": "stream",
          "text": [
            "Requirement already satisfied: torch in /usr/local/lib/python3.6/dist-packages (1.4.0)\n",
            "Reading package lists... Done\n",
            "Building dependency tree       \n",
            "Reading state information... Done\n",
            "graphviz is already the newest version (2.40.1-2).\n",
            "The following package was automatically installed and is no longer required:\n",
            "  libnvidia-common-430\n",
            "Use 'apt autoremove' to remove it.\n",
            "0 upgraded, 0 newly installed, 0 to remove and 25 not upgraded.\n"
          ],
          "name": "stdout"
        }
      ]
    },
    {
      "cell_type": "code",
      "metadata": {
        "id": "uSciqhuiaX4p",
        "colab_type": "code",
        "colab": {}
      },
      "source": [
        "from skimage.io import imread\n",
        "from skimage.transform import resize\n",
        "from tqdm import tqdm\n",
        "import numpy as np\n",
        "import matplotlib.pyplot as plt\n",
        "from glob import glob\n",
        "from PIL import Image\n",
        "import pandas as pd\n",
        "from time import time\n",
        "from sklearn.model_selection import train_test_split\n",
        "import torch\n",
        "import torch.nn as nn\n",
        "import torch.nn.functional as F\n",
        "import torch.optim as optim\n",
        "from torch.utils.data import DataLoader\n",
        "from torch.autograd import Variable\n",
        "from sklearn.preprocessing import LabelEncoder\n",
        "import os\n",
        "from torchvision import models\n",
        "from torch.nn import Linear, ReLU, CrossEntropyLoss, Sequential, Conv2d, MaxPool2d, Module, Softmax, BatchNorm2d, Dropout\n",
        "from torch.optim import Adam, SGD\n",
        "from sklearn.metrics import accuracy_score\n",
        "from torch import optim, cuda"
      ],
      "execution_count": 0,
      "outputs": []
    },
    {
      "cell_type": "code",
      "metadata": {
        "id": "M3d07Lfjulfa",
        "colab_type": "code",
        "outputId": "7414f69d-0e22-460f-e0b9-d420fea65f69",
        "colab": {
          "base_uri": "https://localhost:8080/",
          "height": 55
        }
      },
      "source": [
        "from google.colab import drive\n",
        "drive.mount('/content/drive')"
      ],
      "execution_count": 15,
      "outputs": [
        {
          "output_type": "stream",
          "text": [
            "Drive already mounted at /content/drive; to attempt to forcibly remount, call drive.mount(\"/content/drive\", force_remount=True).\n"
          ],
          "name": "stdout"
        }
      ]
    },
    {
      "cell_type": "code",
      "metadata": {
        "id": "fsjhPro63Vih",
        "colab_type": "code",
        "colab": {}
      },
      "source": [
        "#!unzip -uq \"/content/drive/My Drive/MMAI Deep learning/thecarconnectionpicturedataset.zip\" -d \"/content/drive/My Drive/MMAI Deep learning/image\""
      ],
      "execution_count": 0,
      "outputs": []
    },
    {
      "cell_type": "code",
      "metadata": {
        "id": "iHKuD8buW-Gu",
        "colab_type": "code",
        "colab": {}
      },
      "source": [
        "#!ls"
      ],
      "execution_count": 0,
      "outputs": []
    },
    {
      "cell_type": "code",
      "metadata": {
        "id": "dAhao3r01VHw",
        "colab_type": "code",
        "outputId": "05ad2231-2fa8-400d-ee27-44dcfd6857f3",
        "colab": {
          "base_uri": "https://localhost:8080/",
          "height": 35
        }
      },
      "source": [
        "%cd/content/drive/My Drive/MMAI Deep learning/image/thecarconnectionpicturedataset"
      ],
      "execution_count": 3,
      "outputs": [
        {
          "output_type": "stream",
          "text": [
            "/content/drive/My Drive/MMAI Deep learning/image/thecarconnectionpicturedataset\n"
          ],
          "name": "stdout"
        }
      ]
    },
    {
      "cell_type": "markdown",
      "metadata": {
        "id": "AfwAV3oJ1Xzv",
        "colab_type": "text"
      },
      "source": [
        "y"
      ]
    },
    {
      "cell_type": "code",
      "metadata": {
        "id": "BbAV2RBZ36SJ",
        "colab_type": "code",
        "outputId": "276bcc0c-a14d-4dfa-c0cf-0f76d972a1a6",
        "colab": {
          "base_uri": "https://localhost:8080/",
          "height": 52
        }
      },
      "source": [
        "cars = glob(\"*.jpg\")\n",
        "cars = np.random.permutation(cars)\n",
        "audi=[i for i in cars if i.split('_')[0] in 'Audi']\n",
        "BMW =[i for i in cars if i.split('_')[0] in 'BMW']\n",
        "print(f'there are {len(audi)} audi and {len(BMW)} BMW totally')\n",
        "print(f'there are total {len(cars)} cars')"
      ],
      "execution_count": 4,
      "outputs": [
        {
          "output_type": "stream",
          "text": [
            "there are 3131 audi and 4121 BMW totally\n",
            "there are total 7252 cars\n"
          ],
          "name": "stdout"
        }
      ]
    },
    {
      "cell_type": "code",
      "metadata": {
        "id": "BGmfu5K3EoGE",
        "colab_type": "code",
        "outputId": "0ced3999-594c-4c17-f9af-fb7a31357470",
        "colab": {
          "base_uri": "https://localhost:8080/",
          "height": 35
        }
      },
      "source": [
        "n_each = np.minimum(len(audi), len(BMW))//1000*1000\n",
        "cars= np.random.choice(audi,n_each,replace=False).tolist()+np.random.choice\\\n",
        "      (BMW,n_each,replace=False).tolist()\n",
        "cars\n",
        "\n",
        "makes=np.repeat('audi',n_each).tolist()+np.repeat('bmw',n_each).tolist()\n",
        "\n",
        "\n",
        "assert(len(cars)==len(makes))\n",
        "\n",
        "print(f'the total number of sample size is {len(cars)}')"
      ],
      "execution_count": 5,
      "outputs": [
        {
          "output_type": "stream",
          "text": [
            "the total number of sample size is 6000\n"
          ],
          "name": "stdout"
        }
      ]
    },
    {
      "cell_type": "code",
      "metadata": {
        "id": "N27hE8Xz4yX8",
        "colab_type": "code",
        "outputId": "29db45ee-16d4-49ad-da82-3dce97281697",
        "colab": {
          "base_uri": "https://localhost:8080/",
          "height": 35
        }
      },
      "source": [
        "##load images\n",
        "train_img=[]\n",
        "for img_name in tqdm(cars):\n",
        "    img=imread(img_name)\n",
        "# normalizing the pixel values\n",
        "    img = img/255\n",
        "# resizing the image to (224,224,3)\n",
        "    img = resize(img, output_shape=(224,224,3), mode='constant', anti_aliasing=True)\n",
        "# converting the type of pixel to float 32\n",
        "    img = img.astype('float32')\n",
        "# appending the image into the list\n",
        "    train_img.append(img)"
      ],
      "execution_count": 6,
      "outputs": [
        {
          "output_type": "stream",
          "text": [
            "100%|██████████| 6000/6000 [33:56<00:00,  2.66it/s]\n"
          ],
          "name": "stderr"
        }
      ]
    },
    {
      "cell_type": "code",
      "metadata": {
        "id": "QlxPRDgeN6ex",
        "colab_type": "code",
        "colab": {
          "base_uri": "https://localhost:8080/",
          "height": 35
        },
        "outputId": "37e00bf4-84dc-47f1-9c27-79980cd6f51e"
      },
      "source": [
        "# converting the list to numpy array\n",
        "x = np.array(train_img)\n",
        "x.shape"
      ],
      "execution_count": 7,
      "outputs": [
        {
          "output_type": "execute_result",
          "data": {
            "text/plain": [
              "(6000, 224, 224, 3)"
            ]
          },
          "metadata": {
            "tags": []
          },
          "execution_count": 7
        }
      ]
    },
    {
      "cell_type": "code",
      "metadata": {
        "id": "8Rs3990eSRj8",
        "colab_type": "code",
        "outputId": "098bfe95-09f4-42b9-f101-914d4af0794f",
        "colab": {
          "base_uri": "https://localhost:8080/",
          "height": 287
        }
      },
      "source": [
        "# Exploring the data\n",
        "index = 10\n",
        "plt.imshow(x[index])\n",
        "if (makes[index] == 'audi'):\n",
        "    print('It is an audi vehicle')\n",
        "else:\n",
        "    print('It is a bmw vehicle')"
      ],
      "execution_count": 8,
      "outputs": [
        {
          "output_type": "stream",
          "text": [
            "It is an audi vehicle\n"
          ],
          "name": "stdout"
        },
        {
          "output_type": "display_data",
          "data": {
            "image/png": "[encoded data removed]",
            "text/plain": [
              "<Figure size 432x288 with 1 Axes>"
            ]
          },
          "metadata": {
            "tags": []
          }
        }
      ]
    },
    {
      "cell_type": "code",
      "metadata": {
        "id": "YbPFhMcnSZvo",
        "colab_type": "code",
        "outputId": "c3a85ffe-003c-4e19-abf4-b20b9217ae1b",
        "colab": {
          "base_uri": "https://localhost:8080/",
          "height": 35
        }
      },
      "source": [
        "# defining the target\n",
        "y = np.array(makes)\n",
        "le = LabelEncoder()\n",
        "y= le.fit_transform(y)\n",
        "y.shape\n"
      ],
      "execution_count": 9,
      "outputs": [
        {
          "output_type": "execute_result",
          "data": {
            "text/plain": [
              "(6000,)"
            ]
          },
          "metadata": {
            "tags": []
          },
          "execution_count": 9
        }
      ]
    },
    {
      "cell_type": "code",
      "metadata": {
        "id": "Nh3prVmbZjJV",
        "colab_type": "code",
        "outputId": "04c10020-685c-4105-a2ae-e0a759c90d95",
        "colab": {
          "base_uri": "https://localhost:8080/",
          "height": 35
        }
      },
      "source": [
        "# create test and test datset\n",
        "train_x, test_x, train_y, test_y = train_test_split(x, y, test_size = 0.3, random_state = 42)\n",
        "(train_x.shape, train_y.shape), (test_x.shape, test_y.shape)"
      ],
      "execution_count": 27,
      "outputs": [
        {
          "output_type": "execute_result",
          "data": {
            "text/plain": [
              "(((4200, 224, 224, 3), (4200,)), ((1800, 224, 224, 3), (1800,)))"
            ]
          },
          "metadata": {
            "tags": []
          },
          "execution_count": 27
        }
      ]
    },
    {
      "cell_type": "code",
      "metadata": {
        "id": "IbnkjHNEZtHt",
        "colab_type": "code",
        "outputId": "7376cd4a-afd8-4b27-bf0a-618e06f76eaf",
        "colab": {
          "base_uri": "https://localhost:8080/",
          "height": 35
        }
      },
      "source": [
        "# converting training images into torch format\n",
        "train_x = train_x.reshape(4200, 3, 224, 224)\n",
        "train_x  = torch.from_numpy(train_x)\n",
        "# converting the target into torch format\n",
        "train_y = train_y.astype(int)\n",
        "train_y = torch.from_numpy(train_y)\n",
        "# shape of training data\n",
        "train_x.shape, train_y.shape"
      ],
      "execution_count": 29,
      "outputs": [
        {
          "output_type": "execute_result",
          "data": {
            "text/plain": [
              "(torch.Size([4200, 3, 224, 224]), torch.Size([4200]))"
            ]
          },
          "metadata": {
            "tags": []
          },
          "execution_count": 29
        }
      ]
    },
    {
      "cell_type": "code",
      "metadata": {
        "id": "iEkzo2KJaU24",
        "colab_type": "code",
        "outputId": "59c7aab9-ab30-4256-c8c9-4f8bfc9eb0b0",
        "colab": {
          "base_uri": "https://localhost:8080/",
          "height": 35
        }
      },
      "source": [
        "# converting test images into torch format\n",
        "test_x = test_x.reshape(1800, 3, 224, 224)\n",
        "test_x  = torch.from_numpy(test_x)\n",
        "# converting the target into torch format\n",
        "test_y = test_y.astype(int)\n",
        "test_y = torch.from_numpy(test_y)\n",
        "# shape of test data\n",
        "test_x.shape, test_y.shape"
      ],
      "execution_count": 30,
      "outputs": [
        {
          "output_type": "execute_result",
          "data": {
            "text/plain": [
              "(torch.Size([1800, 3, 224, 224]), torch.Size([1800]))"
            ]
          },
          "metadata": {
            "tags": []
          },
          "execution_count": 30
        }
      ]
    },
    {
      "cell_type": "code",
      "metadata": {
        "id": "8g-lrozfaZ5d",
        "colab_type": "code",
        "outputId": "32e7fb4b-263e-43fa-bc41-076fee1e7b37",
        "colab": {
          "base_uri": "https://localhost:8080/",
          "height": 1000,
          "referenced_widgets": [
            "41d11e1f60434b568c5272e383d3799e",
            "b99c0c41a27046aaab5c72527115d1b5",
            "8fc5f4ba5c8a46d6a33bbecdbb16f3c6",
            "f3f92eac37034f5b9e7f1d58b8f0a236",
            "7dc618c1f2724e4eb6667b07e7b055ad",
            "2854711c4efd40f5b7a57eb0a8314e6f",
            "936e41cb1d6c4deaa39005c040199c56",
            "7373505d71ce4a629cff0b4b1eecf45c"
          ]
        }
      },
      "source": [
        "model = models.resnet18(pretrained=True)\n",
        "model"
      ],
      "execution_count": 32,
      "outputs": [
        {
          "output_type": "stream",
          "text": [
            "Downloading: \"https://download.pytorch.org/models/resnet18-5c106cde.pth\" to /root/.cache/torch/checkpoints/resnet18-5c106cde.pth\n"
          ],
          "name": "stderr"
        },
        {
          "output_type": "display_data",
          "data": {
            "application/vnd.jupyter.widget-view+json": {
              "model_id": "41d11e1f60434b568c5272e383d3799e",
              "version_minor": 0,
              "version_major": 2
            },
            "text/plain": [
              "HBox(children=(IntProgress(value=0, max=46827520), HTML(value='')))"
            ]
          },
          "metadata": {
            "tags": []
          }
        },
        {
          "output_type": "stream",
          "text": [
            "\n"
          ],
          "name": "stdout"
        },
        {
          "output_type": "execute_result",
          "data": {
            "text/plain": [
              "ResNet(\n",
              "  (conv1): Conv2d(3, 64, kernel_size=(7, 7), stride=(2, 2), padding=(3, 3), bias=False)\n",
              "  (bn1): BatchNorm2d(64, eps=1e-05, momentum=0.1, affine=True, track_running_stats=True)\n",
              "  (relu): ReLU(inplace=True)\n",
              "  (maxpool): MaxPool2d(kernel_size=3, stride=2, padding=1, dilation=1, ceil_mode=False)\n",
              "  (layer1): Sequential(\n",
              "    (0): BasicBlock(\n",
              "      (conv1): Conv2d(64, 64, kernel_size=(3, 3), stride=(1, 1), padding=(1, 1), bias=False)\n",
              "      (bn1): BatchNorm2d(64, eps=1e-05, momentum=0.1, affine=True, track_running_stats=True)\n",
              "      (relu): ReLU(inplace=True)\n",
              "      (conv2): Conv2d(64, 64, kernel_size=(3, 3), stride=(1, 1), padding=(1, 1), bias=False)\n",
              "      (bn2): BatchNorm2d(64, eps=1e-05, momentum=0.1, affine=True, track_running_stats=True)\n",
              "    )\n",
              "    (1): BasicBlock(\n",
              "      (conv1): Conv2d(64, 64, kernel_size=(3, 3), stride=(1, 1), padding=(1, 1), bias=False)\n",
              "      (bn1): BatchNorm2d(64, eps=1e-05, momentum=0.1, affine=True, track_running_stats=True)\n",
              "      (relu): ReLU(inplace=True)\n",
              "      (conv2): Conv2d(64, 64, kernel_size=(3, 3), stride=(1, 1), padding=(1, 1), bias=False)\n",
              "      (bn2): BatchNorm2d(64, eps=1e-05, momentum=0.1, affine=True, track_running_stats=True)\n",
              "    )\n",
              "  )\n",
              "  (layer2): Sequential(\n",
              "    (0): BasicBlock(\n",
              "      (conv1): Conv2d(64, 128, kernel_size=(3, 3), stride=(2, 2), padding=(1, 1), bias=False)\n",
              "      (bn1): BatchNorm2d(128, eps=1e-05, momentum=0.1, affine=True, track_running_stats=True)\n",
              "      (relu): ReLU(inplace=True)\n",
              "      (conv2): Conv2d(128, 128, kernel_size=(3, 3), stride=(1, 1), padding=(1, 1), bias=False)\n",
              "      (bn2): BatchNorm2d(128, eps=1e-05, momentum=0.1, affine=True, track_running_stats=True)\n",
              "      (downsample): Sequential(\n",
              "        (0): Conv2d(64, 128, kernel_size=(1, 1), stride=(2, 2), bias=False)\n",
              "        (1): BatchNorm2d(128, eps=1e-05, momentum=0.1, affine=True, track_running_stats=True)\n",
              "      )\n",
              "    )\n",
              "    (1): BasicBlock(\n",
              "      (conv1): Conv2d(128, 128, kernel_size=(3, 3), stride=(1, 1), padding=(1, 1), bias=False)\n",
              "      (bn1): BatchNorm2d(128, eps=1e-05, momentum=0.1, affine=True, track_running_stats=True)\n",
              "      (relu): ReLU(inplace=True)\n",
              "      (conv2): Conv2d(128, 128, kernel_size=(3, 3), stride=(1, 1), padding=(1, 1), bias=False)\n",
              "      (bn2): BatchNorm2d(128, eps=1e-05, momentum=0.1, affine=True, track_running_stats=True)\n",
              "    )\n",
              "  )\n",
              "  (layer3): Sequential(\n",
              "    (0): BasicBlock(\n",
              "      (conv1): Conv2d(128, 256, kernel_size=(3, 3), stride=(2, 2), padding=(1, 1), bias=False)\n",
              "      (bn1): BatchNorm2d(256, eps=1e-05, momentum=0.1, affine=True, track_running_stats=True)\n",
              "      (relu): ReLU(inplace=True)\n",
              "      (conv2): Conv2d(256, 256, kernel_size=(3, 3), stride=(1, 1), padding=(1, 1), bias=False)\n",
              "      (bn2): BatchNorm2d(256, eps=1e-05, momentum=0.1, affine=True, track_running_stats=True)\n",
              "      (downsample): Sequential(\n",
              "        (0): Conv2d(128, 256, kernel_size=(1, 1), stride=(2, 2), bias=False)\n",
              "        (1): BatchNorm2d(256, eps=1e-05, momentum=0.1, affine=True, track_running_stats=True)\n",
              "      )\n",
              "    )\n",
              "    (1): BasicBlock(\n",
              "      (conv1): Conv2d(256, 256, kernel_size=(3, 3), stride=(1, 1), padding=(1, 1), bias=False)\n",
              "      (bn1): BatchNorm2d(256, eps=1e-05, momentum=0.1, affine=True, track_running_stats=True)\n",
              "      (relu): ReLU(inplace=True)\n",
              "      (conv2): Conv2d(256, 256, kernel_size=(3, 3), stride=(1, 1), padding=(1, 1), bias=False)\n",
              "      (bn2): BatchNorm2d(256, eps=1e-05, momentum=0.1, affine=True, track_running_stats=True)\n",
              "    )\n",
              "  )\n",
              "  (layer4): Sequential(\n",
              "    (0): BasicBlock(\n",
              "      (conv1): Conv2d(256, 512, kernel_size=(3, 3), stride=(2, 2), padding=(1, 1), bias=False)\n",
              "      (bn1): BatchNorm2d(512, eps=1e-05, momentum=0.1, affine=True, track_running_stats=True)\n",
              "      (relu): ReLU(inplace=True)\n",
              "      (conv2): Conv2d(512, 512, kernel_size=(3, 3), stride=(1, 1), padding=(1, 1), bias=False)\n",
              "      (bn2): BatchNorm2d(512, eps=1e-05, momentum=0.1, affine=True, track_running_stats=True)\n",
              "      (downsample): Sequential(\n",
              "        (0): Conv2d(256, 512, kernel_size=(1, 1), stride=(2, 2), bias=False)\n",
              "        (1): BatchNorm2d(512, eps=1e-05, momentum=0.1, affine=True, track_running_stats=True)\n",
              "      )\n",
              "    )\n",
              "    (1): BasicBlock(\n",
              "      (conv1): Conv2d(512, 512, kernel_size=(3, 3), stride=(1, 1), padding=(1, 1), bias=False)\n",
              "      (bn1): BatchNorm2d(512, eps=1e-05, momentum=0.1, affine=True, track_running_stats=True)\n",
              "      (relu): ReLU(inplace=True)\n",
              "      (conv2): Conv2d(512, 512, kernel_size=(3, 3), stride=(1, 1), padding=(1, 1), bias=False)\n",
              "      (bn2): BatchNorm2d(512, eps=1e-05, momentum=0.1, affine=True, track_running_stats=True)\n",
              "    )\n",
              "  )\n",
              "  (avgpool): AdaptiveAvgPool2d(output_size=(1, 1))\n",
              "  (fc): Linear(in_features=512, out_features=1000, bias=True)\n",
              ")"
            ]
          },
          "metadata": {
            "tags": []
          },
          "execution_count": 32
        }
      ]
    },
    {
      "cell_type": "code",
      "metadata": {
        "id": "zn8UsGsPp6W_",
        "colab_type": "code",
        "colab": {}
      },
      "source": [
        ""
      ],
      "execution_count": 0,
      "outputs": []
    },
    {
      "cell_type": "code",
      "metadata": {
        "id": "GhxnWdC3fdAT",
        "colab_type": "code",
        "colab": {}
      },
      "source": [
        "# Freeze model weights\n",
        "for parameter in model.parameters():\n",
        "    parameter.requires_grad = False"
      ],
      "execution_count": 0,
      "outputs": []
    },
    {
      "cell_type": "code",
      "metadata": {
        "id": "wh4mG5uEzjE-",
        "colab_type": "code",
        "colab": {}
      },
      "source": [
        "#add on classifier\n",
        "model.fc = Sequential(Linear(512, 2), Dropout(0.2))\n",
        "for parameter in model.fc.parameters():\n",
        "    parameter.requires_grad = True"
      ],
      "execution_count": 0,
      "outputs": []
    },
    {
      "cell_type": "code",
      "metadata": {
        "id": "k8_CW11H1CrG",
        "colab_type": "code",
        "colab": {}
      },
      "source": [
        "# checking if GPU is available if yes, then running on gpu\n",
        "if torch.cuda.is_available():\n",
        "    model = model.cuda()"
      ],
      "execution_count": 0,
      "outputs": []
    },
    {
      "cell_type": "code",
      "metadata": {
        "id": "7y2Pcp7X4gsJ",
        "colab_type": "code",
        "outputId": "9bbf3294-b8d7-4c46-9c99-24fee304b8fc",
        "colab": {
          "base_uri": "https://localhost:8080/",
          "height": 35
        }
      },
      "source": [
        "torch.cuda.is_available()"
      ],
      "execution_count": 36,
      "outputs": [
        {
          "output_type": "execute_result",
          "data": {
            "text/plain": [
              "True"
            ]
          },
          "metadata": {
            "tags": []
          },
          "execution_count": 36
        }
      ]
    },
    {
      "cell_type": "code",
      "metadata": {
        "id": "ZY-UKMlKzW4A",
        "colab_type": "code",
        "colab": {}
      },
      "source": [
        "class CarTrain():\n",
        "    \n",
        "    def __init__(self):\n",
        "        self.len = train_x.shape[0]\n",
        "        self.train_x = train_x\n",
        "        self.train_y = y_train\n",
        "        \n",
        "    def __getitem__(self, index):\n",
        "        return train_x[index], train_y[index] \n",
        "    \n",
        "    def __len__(self):\n",
        "        return self.len"
      ],
      "execution_count": 0,
      "outputs": []
    },
    {
      "cell_type": "code",
      "metadata": {
        "id": "AXJVQZL3zW7e",
        "colab_type": "code",
        "colab": {}
      },
      "source": [
        "class CarTest():\n",
        "    \n",
        "    def __init__(self):\n",
        "        self.len = test_x.shape[0]\n",
        "        self.test_x = test_x\n",
        "        self.test_y = test_y\n",
        "        \n",
        "    def __getitem__(self, index):\n",
        "        return test_x[index], test_y[index] \n",
        "    \n",
        "    def __len__(self):\n",
        "        return self.len"
      ],
      "execution_count": 0,
      "outputs": []
    },
    {
      "cell_type": "code",
      "metadata": {
        "id": "rOzv2y8izXDo",
        "colab_type": "code",
        "colab": {}
      },
      "source": [
        "#Making data iterator\n",
        "train = CarTrain()\n",
        "test = CarTest()\n",
        "train_loader = DataLoader(dataset=train, batch_size=128, shuffle=True)\n",
        "test_loader = DataLoader(dataset=test, batch_size=128, shuffle=True)"
      ],
      "execution_count": 0,
      "outputs": []
    },
    {
      "cell_type": "code",
      "metadata": {
        "id": "3jW3K9OF3UQv",
        "colab_type": "code",
        "colab": {
          "base_uri": "https://localhost:8080/",
          "height": 35
        },
        "outputId": "391f9a50-6927-4a71-f956-9be6b64a5c6a"
      },
      "source": [
        "trainiter = iter(train_loader)\n",
        "features, labels = next(trainiter)\n",
        "features.shape, labels.shape"
      ],
      "execution_count": 65,
      "outputs": [
        {
          "output_type": "execute_result",
          "data": {
            "text/plain": [
              "(torch.Size([128, 3, 224, 224]), torch.Size([128]))"
            ]
          },
          "metadata": {
            "tags": []
          },
          "execution_count": 65
        }
      ]
    },
    {
      "cell_type": "code",
      "metadata": {
        "id": "fxF7aXPwzXJ6",
        "colab_type": "code",
        "colab": {
          "base_uri": "https://localhost:8080/",
          "height": 35
        },
        "outputId": "5e14db3f-cb26-4418-c43d-0c4d57bcf3d8"
      },
      "source": [
        "trainiter"
      ],
      "execution_count": 72,
      "outputs": [
        {
          "output_type": "execute_result",
          "data": {
            "text/plain": [
              "<torch.utils.data.dataloader._SingleProcessDataLoaderIter at 0x7f490802f160>"
            ]
          },
          "metadata": {
            "tags": []
          },
          "execution_count": 72
        }
      ]
    },
    {
      "cell_type": "markdown",
      "metadata": {
        "id": "MnVSpiBf1JHi",
        "colab_type": "text"
      },
      "source": [
        "batch_size, which can be used to save memory and improve running efficiency\n",
        "one batch is a sample of the full training data, one iterstion is the foward and backward of one batch\n",
        "one epoch is the one time of running the full training data\n",
        "if training data size is 1000, batch is 500, then there are 2 times of iterations,\n",
        "and it will take 2 iterations to complete 1 epoch."
      ]
    },
    {
      "cell_type": "code",
      "metadata": {
        "id": "6-rKrAzGNcgJ",
        "colab_type": "code",
        "colab": {}
      },
      "source": [
        "import torch.optim as optim\n",
        "\n",
        "# specify loss function (categorical cross-entropy)\n",
        "loss_function = CrossEntropyLoss()\n",
        "\n",
        "# specify optimizer (stochastic gradient descent) and learning rate\n",
        "# gradient descent on the layer that we customized in transfer learning\n",
        "optimizer = optim.Adam(model.parameters(), lr=0.0005)\n",
        "\n",
        "#train model\n",
        "# batch size\n",
        "batch_size = 128\n",
        "\n",
        "# number of epochs to train the model\n",
        "n_epochs = 50"
      ],
      "execution_count": 0,
      "outputs": []
    },
    {
      "cell_type": "code",
      "metadata": {
        "id": "A5vsG9jgNqJh",
        "colab_type": "code",
        "colab": {
          "base_uri": "https://localhost:8080/",
          "height": 1000
        },
        "outputId": "b5b87ea0-70c6-4f50-c2dc-ce6417b6928a"
      },
      "source": [
        "epochs = 100\n",
        "steps = 0\n",
        "train_losses, test_losses = [], []\n",
        "for e in range(epochs):\n",
        "    running_loss = 0\n",
        "    model.train()\n",
        "    for images, labels in train_loader:   \n",
        "        if torch.cuda.is_available():\n",
        "            images, labels = images.cuda(), labels.cuda()     \n",
        "        optimizer.zero_grad()\n",
        "        log_ps = model(images)\n",
        "        loss = loss_function(log_ps, labels)\n",
        "        loss.backward()\n",
        "        optimizer.step()        \n",
        "        running_loss += loss.item()        \n",
        "    else:\n",
        "        test_loss = 0\n",
        "        accuracy = 0        \n",
        "        model.eval()\n",
        "        with torch.no_grad():\n",
        "            for images, labels in test_loader:\n",
        "                if torch.cuda.is_available():\n",
        "                    images, labels = images.cuda(), labels.cuda()\n",
        "                log_ps = model(images)\n",
        "                test_loss += loss_function(log_ps, labels)                \n",
        "                # ps = torch.exp(log_ps)\n",
        "                top_p, top_class = log_ps.topk(1, dim=1)\n",
        "                equals = top_class.long() == labels.long().view(*top_class.shape)\n",
        "                accuracy += torch.mean(equals.type(torch.FloatTensor))                \n",
        "        train_losses.append(running_loss/len(train_loader))\n",
        "        test_losses.append(test_loss/len(test_loader))\n",
        "        print(\"[Epoch: {}/{}] \".format(e+1, epochs),\n",
        "              \"[Training Loss: {:.3f}] \".format(running_loss/len(train_loader)),\n",
        "              \"[Test Loss: {:.3f}] \".format(test_loss/len(test_loader)),\n",
        "              \"[Test Accuracy: {:.3f}]\".format(accuracy/len(test_loader)))"
      ],
      "execution_count": 82,
      "outputs": [
        {
          "output_type": "stream",
          "text": [
            "[Epoch: 1/100]  [Training Loss: 0.703]  [Test Loss: 0.683]  [Test Accuracy: 0.558]\n",
            "[Epoch: 2/100]  [Training Loss: 0.693]  [Test Loss: 0.675]  [Test Accuracy: 0.590]\n",
            "[Epoch: 3/100]  [Training Loss: 0.677]  [Test Loss: 0.672]  [Test Accuracy: 0.592]\n",
            "[Epoch: 4/100]  [Training Loss: 0.671]  [Test Loss: 0.674]  [Test Accuracy: 0.582]\n",
            "[Epoch: 5/100]  [Training Loss: 0.663]  [Test Loss: 0.654]  [Test Accuracy: 0.630]\n",
            "[Epoch: 6/100]  [Training Loss: 0.663]  [Test Loss: 0.659]  [Test Accuracy: 0.611]\n",
            "[Epoch: 7/100]  [Training Loss: 0.657]  [Test Loss: 0.660]  [Test Accuracy: 0.617]\n",
            "[Epoch: 8/100]  [Training Loss: 0.652]  [Test Loss: 0.651]  [Test Accuracy: 0.639]\n",
            "[Epoch: 9/100]  [Training Loss: 0.654]  [Test Loss: 0.675]  [Test Accuracy: 0.592]\n",
            "[Epoch: 10/100]  [Training Loss: 0.656]  [Test Loss: 0.654]  [Test Accuracy: 0.624]\n",
            "[Epoch: 11/100]  [Training Loss: 0.647]  [Test Loss: 0.665]  [Test Accuracy: 0.618]\n",
            "[Epoch: 12/100]  [Training Loss: 0.642]  [Test Loss: 0.654]  [Test Accuracy: 0.622]\n",
            "[Epoch: 13/100]  [Training Loss: 0.643]  [Test Loss: 0.654]  [Test Accuracy: 0.631]\n",
            "[Epoch: 14/100]  [Training Loss: 0.643]  [Test Loss: 0.651]  [Test Accuracy: 0.639]\n",
            "[Epoch: 15/100]  [Training Loss: 0.635]  [Test Loss: 0.652]  [Test Accuracy: 0.635]\n",
            "[Epoch: 16/100]  [Training Loss: 0.640]  [Test Loss: 0.670]  [Test Accuracy: 0.587]\n",
            "[Epoch: 17/100]  [Training Loss: 0.636]  [Test Loss: 0.641]  [Test Accuracy: 0.622]\n",
            "[Epoch: 18/100]  [Training Loss: 0.640]  [Test Loss: 0.653]  [Test Accuracy: 0.630]\n",
            "[Epoch: 19/100]  [Training Loss: 0.631]  [Test Loss: 0.656]  [Test Accuracy: 0.619]\n",
            "[Epoch: 20/100]  [Training Loss: 0.629]  [Test Loss: 0.660]  [Test Accuracy: 0.606]\n",
            "[Epoch: 21/100]  [Training Loss: 0.631]  [Test Loss: 0.649]  [Test Accuracy: 0.636]\n",
            "[Epoch: 22/100]  [Training Loss: 0.629]  [Test Loss: 0.650]  [Test Accuracy: 0.631]\n",
            "[Epoch: 23/100]  [Training Loss: 0.627]  [Test Loss: 0.656]  [Test Accuracy: 0.602]\n",
            "[Epoch: 24/100]  [Training Loss: 0.635]  [Test Loss: 0.647]  [Test Accuracy: 0.646]\n",
            "[Epoch: 25/100]  [Training Loss: 0.625]  [Test Loss: 0.649]  [Test Accuracy: 0.642]\n",
            "[Epoch: 26/100]  [Training Loss: 0.626]  [Test Loss: 0.652]  [Test Accuracy: 0.627]\n",
            "[Epoch: 27/100]  [Training Loss: 0.624]  [Test Loss: 0.659]  [Test Accuracy: 0.630]\n",
            "[Epoch: 28/100]  [Training Loss: 0.627]  [Test Loss: 0.643]  [Test Accuracy: 0.624]\n",
            "[Epoch: 29/100]  [Training Loss: 0.625]  [Test Loss: 0.642]  [Test Accuracy: 0.652]\n",
            "[Epoch: 30/100]  [Training Loss: 0.621]  [Test Loss: 0.652]  [Test Accuracy: 0.626]\n",
            "[Epoch: 31/100]  [Training Loss: 0.624]  [Test Loss: 0.643]  [Test Accuracy: 0.637]\n",
            "[Epoch: 32/100]  [Training Loss: 0.622]  [Test Loss: 0.645]  [Test Accuracy: 0.633]\n",
            "[Epoch: 33/100]  [Training Loss: 0.623]  [Test Loss: 0.649]  [Test Accuracy: 0.621]\n",
            "[Epoch: 34/100]  [Training Loss: 0.620]  [Test Loss: 0.656]  [Test Accuracy: 0.639]\n",
            "[Epoch: 35/100]  [Training Loss: 0.626]  [Test Loss: 0.645]  [Test Accuracy: 0.635]\n",
            "[Epoch: 36/100]  [Training Loss: 0.617]  [Test Loss: 0.650]  [Test Accuracy: 0.644]\n",
            "[Epoch: 37/100]  [Training Loss: 0.620]  [Test Loss: 0.651]  [Test Accuracy: 0.622]\n",
            "[Epoch: 38/100]  [Training Loss: 0.622]  [Test Loss: 0.655]  [Test Accuracy: 0.606]\n",
            "[Epoch: 39/100]  [Training Loss: 0.623]  [Test Loss: 0.638]  [Test Accuracy: 0.647]\n",
            "[Epoch: 40/100]  [Training Loss: 0.618]  [Test Loss: 0.639]  [Test Accuracy: 0.642]\n",
            "[Epoch: 41/100]  [Training Loss: 0.616]  [Test Loss: 0.640]  [Test Accuracy: 0.636]\n",
            "[Epoch: 42/100]  [Training Loss: 0.615]  [Test Loss: 0.646]  [Test Accuracy: 0.644]\n",
            "[Epoch: 43/100]  [Training Loss: 0.618]  [Test Loss: 0.636]  [Test Accuracy: 0.656]\n",
            "[Epoch: 44/100]  [Training Loss: 0.614]  [Test Loss: 0.658]  [Test Accuracy: 0.621]\n",
            "[Epoch: 45/100]  [Training Loss: 0.623]  [Test Loss: 0.644]  [Test Accuracy: 0.633]\n",
            "[Epoch: 46/100]  [Training Loss: 0.616]  [Test Loss: 0.632]  [Test Accuracy: 0.659]\n",
            "[Epoch: 47/100]  [Training Loss: 0.610]  [Test Loss: 0.637]  [Test Accuracy: 0.659]\n",
            "[Epoch: 48/100]  [Training Loss: 0.610]  [Test Loss: 0.638]  [Test Accuracy: 0.658]\n",
            "[Epoch: 49/100]  [Training Loss: 0.615]  [Test Loss: 0.640]  [Test Accuracy: 0.643]\n",
            "[Epoch: 50/100]  [Training Loss: 0.610]  [Test Loss: 0.644]  [Test Accuracy: 0.638]\n",
            "[Epoch: 51/100]  [Training Loss: 0.616]  [Test Loss: 0.654]  [Test Accuracy: 0.626]\n",
            "[Epoch: 52/100]  [Training Loss: 0.616]  [Test Loss: 0.651]  [Test Accuracy: 0.638]\n",
            "[Epoch: 53/100]  [Training Loss: 0.616]  [Test Loss: 0.662]  [Test Accuracy: 0.608]\n",
            "[Epoch: 54/100]  [Training Loss: 0.609]  [Test Loss: 0.635]  [Test Accuracy: 0.660]\n",
            "[Epoch: 55/100]  [Training Loss: 0.607]  [Test Loss: 0.650]  [Test Accuracy: 0.636]\n",
            "[Epoch: 56/100]  [Training Loss: 0.612]  [Test Loss: 0.634]  [Test Accuracy: 0.667]\n",
            "[Epoch: 57/100]  [Training Loss: 0.611]  [Test Loss: 0.633]  [Test Accuracy: 0.648]\n",
            "[Epoch: 58/100]  [Training Loss: 0.609]  [Test Loss: 0.656]  [Test Accuracy: 0.627]\n",
            "[Epoch: 59/100]  [Training Loss: 0.609]  [Test Loss: 0.654]  [Test Accuracy: 0.633]\n",
            "[Epoch: 60/100]  [Training Loss: 0.607]  [Test Loss: 0.650]  [Test Accuracy: 0.626]\n",
            "[Epoch: 61/100]  [Training Loss: 0.606]  [Test Loss: 0.654]  [Test Accuracy: 0.616]\n",
            "[Epoch: 62/100]  [Training Loss: 0.613]  [Test Loss: 0.650]  [Test Accuracy: 0.620]\n",
            "[Epoch: 63/100]  [Training Loss: 0.616]  [Test Loss: 0.641]  [Test Accuracy: 0.644]\n",
            "[Epoch: 64/100]  [Training Loss: 0.599]  [Test Loss: 0.644]  [Test Accuracy: 0.652]\n",
            "[Epoch: 65/100]  [Training Loss: 0.605]  [Test Loss: 0.633]  [Test Accuracy: 0.645]\n",
            "[Epoch: 66/100]  [Training Loss: 0.606]  [Test Loss: 0.634]  [Test Accuracy: 0.648]\n",
            "[Epoch: 67/100]  [Training Loss: 0.605]  [Test Loss: 0.655]  [Test Accuracy: 0.628]\n",
            "[Epoch: 68/100]  [Training Loss: 0.614]  [Test Loss: 0.638]  [Test Accuracy: 0.646]\n",
            "[Epoch: 69/100]  [Training Loss: 0.607]  [Test Loss: 0.655]  [Test Accuracy: 0.631]\n",
            "[Epoch: 70/100]  [Training Loss: 0.606]  [Test Loss: 0.649]  [Test Accuracy: 0.637]\n",
            "[Epoch: 71/100]  [Training Loss: 0.604]  [Test Loss: 0.642]  [Test Accuracy: 0.643]\n",
            "[Epoch: 72/100]  [Training Loss: 0.605]  [Test Loss: 0.648]  [Test Accuracy: 0.631]\n",
            "[Epoch: 73/100]  [Training Loss: 0.605]  [Test Loss: 0.629]  [Test Accuracy: 0.654]\n",
            "[Epoch: 74/100]  [Training Loss: 0.607]  [Test Loss: 0.653]  [Test Accuracy: 0.631]\n",
            "[Epoch: 75/100]  [Training Loss: 0.604]  [Test Loss: 0.635]  [Test Accuracy: 0.655]\n",
            "[Epoch: 76/100]  [Training Loss: 0.605]  [Test Loss: 0.650]  [Test Accuracy: 0.645]\n",
            "[Epoch: 77/100]  [Training Loss: 0.602]  [Test Loss: 0.649]  [Test Accuracy: 0.630]\n",
            "[Epoch: 78/100]  [Training Loss: 0.606]  [Test Loss: 0.626]  [Test Accuracy: 0.655]\n",
            "[Epoch: 79/100]  [Training Loss: 0.604]  [Test Loss: 0.649]  [Test Accuracy: 0.625]\n",
            "[Epoch: 80/100]  [Training Loss: 0.601]  [Test Loss: 0.651]  [Test Accuracy: 0.632]\n",
            "[Epoch: 81/100]  [Training Loss: 0.603]  [Test Loss: 0.655]  [Test Accuracy: 0.622]\n",
            "[Epoch: 82/100]  [Training Loss: 0.602]  [Test Loss: 0.672]  [Test Accuracy: 0.598]\n",
            "[Epoch: 83/100]  [Training Loss: 0.611]  [Test Loss: 0.645]  [Test Accuracy: 0.640]\n",
            "[Epoch: 84/100]  [Training Loss: 0.603]  [Test Loss: 0.657]  [Test Accuracy: 0.633]\n",
            "[Epoch: 85/100]  [Training Loss: 0.601]  [Test Loss: 0.636]  [Test Accuracy: 0.645]\n",
            "[Epoch: 86/100]  [Training Loss: 0.600]  [Test Loss: 0.646]  [Test Accuracy: 0.631]\n",
            "[Epoch: 87/100]  [Training Loss: 0.599]  [Test Loss: 0.657]  [Test Accuracy: 0.626]\n",
            "[Epoch: 88/100]  [Training Loss: 0.597]  [Test Loss: 0.634]  [Test Accuracy: 0.649]\n",
            "[Epoch: 89/100]  [Training Loss: 0.600]  [Test Loss: 0.658]  [Test Accuracy: 0.619]\n",
            "[Epoch: 90/100]  [Training Loss: 0.603]  [Test Loss: 0.639]  [Test Accuracy: 0.650]\n",
            "[Epoch: 91/100]  [Training Loss: 0.597]  [Test Loss: 0.649]  [Test Accuracy: 0.623]\n",
            "[Epoch: 92/100]  [Training Loss: 0.607]  [Test Loss: 0.641]  [Test Accuracy: 0.636]\n",
            "[Epoch: 93/100]  [Training Loss: 0.603]  [Test Loss: 0.644]  [Test Accuracy: 0.639]\n",
            "[Epoch: 94/100]  [Training Loss: 0.602]  [Test Loss: 0.645]  [Test Accuracy: 0.653]\n",
            "[Epoch: 95/100]  [Training Loss: 0.603]  [Test Loss: 0.656]  [Test Accuracy: 0.610]\n",
            "[Epoch: 96/100]  [Training Loss: 0.604]  [Test Loss: 0.650]  [Test Accuracy: 0.625]\n",
            "[Epoch: 97/100]  [Training Loss: 0.598]  [Test Loss: 0.644]  [Test Accuracy: 0.625]\n",
            "[Epoch: 98/100]  [Training Loss: 0.609]  [Test Loss: 0.650]  [Test Accuracy: 0.641]\n",
            "[Epoch: 99/100]  [Training Loss: 0.606]  [Test Loss: 0.646]  [Test Accuracy: 0.644]\n",
            "[Epoch: 100/100]  [Training Loss: 0.599]  [Test Loss: 0.660]  [Test Accuracy: 0.635]\n"
          ],
          "name": "stdout"
        }
      ]
    },
    {
      "cell_type": "code",
      "metadata": {
        "id": "kd_BPRXGANcK",
        "colab_type": "code",
        "colab": {
          "base_uri": "https://localhost:8080/",
          "height": 35
        },
        "outputId": "ffe073fd-dae5-432e-b53c-27c566be0e67"
      },
      "source": [
        "print('test accuracy: \\t', np.average(accuracy)/len(test_loader))"
      ],
      "execution_count": 89,
      "outputs": [
        {
          "output_type": "stream",
          "text": [
            "test accuracy: \t 0.6348958333333333\n"
          ],
          "name": "stdout"
        }
      ]
    }
  ]
}